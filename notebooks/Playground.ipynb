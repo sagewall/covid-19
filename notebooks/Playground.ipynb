{
 "cells": [
  {
   "cell_type": "code",
   "execution_count": null,
   "metadata": {},
   "outputs": [],
   "source": [
    "import geopandas"
   ]
  },
  {
   "cell_type": "code",
   "execution_count": null,
   "metadata": {},
   "outputs": [],
   "source": [
    "ncov_cases_us_url = 'https://services1.arcgis.com/0MSEUqKaxRlEPj5g/arcgis/rest/services/ncov_cases_US/FeatureServer/0/query?where=1%3D1&outFields=*&returnGeometry=true&f=pgeojson'\n",
    ""
   ]
  },
  {
   "cell_type": "code",
   "execution_count": null,
   "metadata": {},
   "outputs": [],
   "source": [
    "usa_counties_generalized_url = 'https://services.arcgis.com/P3ePLMYs2RVChkJx/arcgis/rest/services/USA_Counties_Generalized/FeatureServer/0/query?where=1%3D1&outFields=*&returnGeometry=true&f=pgeojson'"
   ]
  },
  {
   "cell_type": "code",
   "execution_count": null,
   "metadata": {},
   "outputs": [],
   "source": [
    "usa_states_generalized_url = 'https://services.arcgis.com/P3ePLMYs2RVChkJx/ArcGIS/rest/services/USA_States_Generalized/FeatureServer/0/query?where=1%3D1&outFields=*&returnGeometry=true&f=pgeojson'"
   ]
  },
  {
   "cell_type": "code",
   "execution_count": null,
   "metadata": {},
   "outputs": [],
   "source": [
    "def state_urls(state_name):\n",
    "    state_name = state_name.replace(' ', '+')\n",
    "    counties_url = f'https://services.arcgis.com/P3ePLMYs2RVChkJx/arcgis/rest/services/USA_Counties_Generalized/FeatureServer/0/query?where=STATE_NAME%3D%27{state_name}%27&outFields=*&returnGeometry=true&f=pgeojson'\n",
    "\n",
    "    cases_url = f'https://services1.arcgis.com/0MSEUqKaxRlEPj5g/arcgis/rest/services/ncov_cases_US/FeatureServer/0/query?where=Province_State%3D%27{state_name}%27&outFields=*&returnGeometry=true&f=pgeojson'\n",
    "\n",
    "    return {\n",
    "        'counties_url': counties_url,\n",
    "        'cases_url': cases_url\n",
    "    }\n",
    "\n",
    ""
   ]
  },
  {
   "cell_type": "code",
   "execution_count": null,
   "metadata": {},
   "outputs": [],
   "source": [
    "colorado_urls = state_urls('Colorado')\n",
    "colorado_urls['counties_url']"
   ]
  },
  {
   "cell_type": "code",
   "execution_count": null,
   "metadata": {},
   "outputs": [],
   "source": [
    "colorado_cases = geopandas.read_file(colorado_urls['cases_url'])[['Confirmed', 'Recovered', 'Deaths', 'Active', 'FIPS']]"
   ]
  },
  {
   "cell_type": "code",
   "execution_count": null,
   "metadata": {},
   "outputs": [],
   "source": [
    "colorado_counties = geopandas.read_file(colorado_urls['counties_url'])"
   ]
  },
  {
   "cell_type": "code",
   "execution_count": null,
   "metadata": {},
   "outputs": [],
   "source": [
    "colorado_county_cases = colorado_counties.merge(colorado_cases, on='FIPS')"
   ]
  },
  {
   "cell_type": "code",
   "execution_count": null,
   "metadata": {},
   "outputs": [],
   "source": [
    "colorado_county_cases.plot(column='Confirmed', cmap='coolwarm', scheme='percentiles', figsize=(25,25), legend='True')"
   ]
  },
  {
   "cell_type": "code",
   "execution_count": null,
   "metadata": {},
   "outputs": [],
   "source": [
    "us_cases = geopandas.read_file(ncov_cases_us_url).cx[-120:-15, :]"
   ]
  },
  {
   "cell_type": "code",
   "execution_count": null,
   "metadata": {},
   "outputs": [],
   "source": [
    "states = geopandas.read_file(usa_states_generalized_url).cx[-120:-15, :]"
   ]
  },
  {
   "cell_type": "code",
   "execution_count": null,
   "metadata": {},
   "outputs": [],
   "source": [
    "base = states.plot(color='white', edgecolor='black', figsize=(25,25))\n",
    "us_cases.plot(ax=base, column='Confirmed', cmap='coolwarm', scheme='percentiles', alpha=0.75, markersize=us_cases['Confirmed'], figsize=(25,25), legend='True')\n",
    ""
   ]
  },
  {
   "cell_type": "code",
   "execution_count": null,
   "metadata": {},
   "outputs": [],
   "source": []
  }
 ],
 "metadata": {
  "kernelspec": {
   "display_name": "Python 3.8.2 64-bit ('COVID-19': pipenv)",
   "language": "python",
   "name": "python38264bitcovid19pipenv3d0d65de553e4a67aef69bcc9adf750a"
  },
  "language_info": {
   "codemirror_mode": {
    "name": "ipython",
    "version": 3
   },
   "file_extension": ".py",
   "mimetype": "text/x-python",
   "name": "python",
   "nbconvert_exporter": "python",
   "pygments_lexer": "ipython3",
   "version": "3.8.2-final"
  }
 },
 "nbformat": 4,
 "nbformat_minor": 4
}